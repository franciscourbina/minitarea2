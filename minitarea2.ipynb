{
  "nbformat": 4,
  "nbformat_minor": 0,
  "metadata": {
    "colab": {
      "name": "minitarea2.ipynb",
      "version": "0.3.2",
      "provenance": []
    },
    "kernelspec": {
      "display_name": "Python 2",
      "language": "python",
      "name": "python2"
    }
  },
  "cells": [
    {
      "metadata": {
        "id": "-3BiD3qT2HpU",
        "colab_type": "text"
      },
      "cell_type": "markdown",
      "source": [
        "# EI2001: Ciencia de Datos en Astronomía\n",
        "\n",
        "**Profesores:** Pía Cortés, Daniela Barrientos, Matías Suazo, Matías Mattamala\n",
        "\n",
        "## Minitarea 2: Uso de NumPy y matplotlib\n",
        "\n",
        "**Objetivos:**\n",
        "\n",
        "1. Poner en práctica el uso de librerías en python (específicamente NumPy y matplotlib)\n",
        "2. Familiarizarse con el concepto de ndarray\n",
        "3. Realizar gráficos personalizados\n",
        "\n",
        "\n",
        "**Instrucciones:**\n",
        "\n",
        "1. Lean cuidadosamente todo lo que viene ahora\n",
        "2. Para hacer esta tarea deben que hacer un **fork** del repositorio en sus cuentas de GitHub.\n",
        "4. Abrir [Google Colab](https://colab.research.google.com) y seleccionar \"abrir un archivo desde GitHub\". Deben seleccionar su cuenta Github y escoger el repositorio que corresponde al fork que hicieron.\n",
        "5. Si todo sale bien, debería abrirse una copia de este notebook en su cuenta de Google Colab.\n",
        "6. Se adjuntan 6 mini actividades a completar. **TODAS** son necesarias y deben completar lo que se va pidiendo.\n",
        "7. Cada vez que completen un ítem, deben guardar un avance en su fork de GitHub, de modo de **respaldar cada avance significativo**. Usen comentarios coherentes con cada respaldo \"Sección 1 completa\", \"Tarea terminada\", no solamente el que pone por defecto.\n",
        "\n"
      ]
    },
    {
      "metadata": {
        "id": "jh6pboDB2HpX",
        "colab_type": "text"
      },
      "cell_type": "markdown",
      "source": [
        "## 1. Cargar datos\n",
        "\n",
        "Para esta minitarea trabajaremos con la fotometría de algunas estrellas. El objetivo final de esta actividad es obtener un gráfico llamado **Diagrama de Color-Magnitud (CMD)**, este es una variante del [Diagrama de Hertzsprung Russell](https://en.wikipedia.org/wiki/Hertzsprung%E2%80%93Russell_diagram) (o diagrama HR) cuyo objetivo es ver la distribución en Brillo y Color (Luminosidad y Temperatura para el diagrama HR) de las estrellas de una población. Con este se puede reconocer las distintas etapas evolutivas en las que se encuentran las estrellas, sus edades y metalicidades. \n",
        "\n",
        "\n",
        "Comienza por cargar los datos de una población sintética. En el repositorio se encuentra el archivo de texto llamado **`phot.dat`** que contiene:\n",
        "\n",
        "1. Fotometría en las bandas B, V, R, I (magnitud aparente)\n",
        "2. Temperatura ($log_{10}(T_{eff} / K)$)\n",
        "3. Masa [$M_{\\odot}$]\n",
        "4. Distancia [kpc] \n",
        "\n",
        "\n",
        "* Carga los datos a formato `ndarray` en la variable `datos` e inspecciona su forma y tamaño, como tambien las diferentes columnas."
      ]
    },
    {
      "metadata": {
        "id": "-uBOMzL_2HpY",
        "colab_type": "code",
        "outputId": "7b5c9d91-52e4-4a00-a6e7-87f6f04bc1d7",
        "colab": {
          "base_uri": "https://localhost:8080/",
          "height": 221
        }
      },
      "cell_type": "code",
      "source": [
        "import numpy as np\n",
        "\n",
        "# Carga los datos a un ndarray\n",
        "\n",
        "archivo = 'https://raw.githubusercontent.com/astrodatos/minitarea2/master/phot.dat'\n",
        "datos = np.loadtxt(archivo)\n",
        "\n",
        "# Inspecciona su forma y tamaño\n",
        "\n",
        "print(\"Forma:\\n{}\".format(datos.shape))\n",
        "\n",
        "print(\"Tamaño:\\n{}.\".format(datos.size))\n",
        "\n",
        "# Veámoslo :)\n",
        "\n",
        "print(\"Arreglo de datos:\\n{}\".format(datos))"
      ],
      "execution_count": 1,
      "outputs": [
        {
          "output_type": "stream",
          "text": [
            "Forma:\n",
            "(5298, 7)\n",
            "Tamaño:\n",
            "37086.\n",
            "Arreglo de datos:\n",
            "[[1.43318972 0.55800856 0.23628573 ... 3.7514     1.263      2.92588428]\n",
            " [3.05953348 2.22205699 1.78027236 ... 3.7411     0.972      3.02311363]\n",
            " [1.57848745 0.76497844 0.51246246 ... 3.7681     1.227      2.83983097]\n",
            " ...\n",
            " [4.79977225 4.00696032 3.57323265 ... 3.7436     0.986      7.2987171 ]\n",
            " [5.45884546 4.47140036 4.05807828 ... 3.7208     0.926      6.15482424]\n",
            " [4.23992507 3.45563476 3.01565666 ... 3.7461     1.002      6.01632559]]\n"
          ],
          "name": "stdout"
        }
      ]
    },
    {
      "metadata": {
        "id": "HUpPs65n2Hpc",
        "colab_type": "text"
      },
      "cell_type": "markdown",
      "source": [
        "## 2. Histogramas\n",
        "\n",
        "El siguiente paso es inspeccionar los elementos en las diferentes columnas. Para ello crearás histogramas de algunas variables de interés. \n",
        "\n",
        "* Haz una figura con dos gráficos, uno al lado del otro, que contengan:\n",
        "\n",
        "    1. Un histograma con las distribuciones de las magnitudes en las bandas B y V\n",
        "    2. Un histograma con la distribución de masas\n",
        "\n",
        "No olvides poner nombres a los ejes, titulos, leyendas, etc. Se creativo en el estilo de tu gráfico!"
      ]
    },
    {
      "metadata": {
        "id": "Fr6TMr-l2Hpd",
        "colab_type": "code",
        "colab": {
          "base_uri": "https://localhost:8080/",
          "height": 1027
        },
        "outputId": "fee0cd3c-5f04-4d93-f9c5-0d3f258b93a0"
      },
      "cell_type": "code",
      "source": [
        "#Plotear histogramas de cada columna\n",
        "\n",
        "import matplotlib.pyplot as plt\n",
        "%matplotlib inline\n",
        "\n",
        "# Agrandando el tamaño de la letra\n",
        "\n",
        "from matplotlib.pyplot import rcParams\n",
        "\n",
        "params = {'legend.fontsize': 'x-large',\n",
        "         'axes.labelsize': 'x-large',\n",
        "         'axes.titlesize':'x-large',\n",
        "         'xtick.labelsize':'x-large',\n",
        "         'ytick.labelsize':'x-large'}\n",
        "rcParams.update(params)\n",
        "\n",
        "# Realizamos los histogramas con la funcion plt.hist\n",
        "# Partimos dándole un tamaño adecuado a cada gráfico.\n",
        "\n",
        "plt.figure(figsize=(15,8))\n",
        "plt.subplot(121)\n",
        "plt.title('Histograma de bandas B y V')\n",
        "plt.hist(datos[:,0], bins=60, alpha=0.7, edgecolor = 'black',  linewidth=1, label = 'Distribucion Bandas B')\n",
        "plt.hist(datos[:,1], bins=60, alpha=0.6, edgecolor = 'black',  linewidth=1, label = 'Distribucion Bandas V')\n",
        "plt.legend()\n",
        "plt.xlabel('Magnitud de la banda')\n",
        "plt.ylabel('Frecuencia')\n",
        "plt.grid(True)\n",
        "plt.show()\n",
        "\n",
        "\n",
        "plt.figure(figsize=(15,8))\n",
        "plt.subplot(122)\n",
        "plt.title(\"Histograma de distancia de las estrellas\")\n",
        "plt.hist(datos[:,6], bins=60, alpha =1, edgecolor =\"black\", linewidth=1, label = \"Distribucion de distancias\")\n",
        "plt.legend()\n",
        "plt.xlabel(\"Distancia [Kpc]\")\n",
        "plt.ylabel(\"Frecuencia\")\n",
        "plt.grid(True)\n",
        "plt.show()\n"
      ],
      "execution_count": 81,
      "outputs": [
        {
          "output_type": "display_data",
          "data": {
            "image/png": "[encoded data removed]",
            "text/plain": [
              "<Figure size 1080x576 with 1 Axes>"
            ]
          },
          "metadata": {
            "tags": []
          }
        },
        {
          "output_type": "display_data",
          "data": {
            "image/png": "[encoded data removed]",
            "text/plain": [
              "<Figure size 1080x576 with 1 Axes>"
            ]
          },
          "metadata": {
            "tags": []
          }
        }
      ]
    },
    {
      "metadata": {
        "id": "zMWaajxW2Hpg",
        "colab_type": "text"
      },
      "cell_type": "markdown",
      "source": [
        "## 3. Filtrar datos\n",
        "\n",
        "Como te habrás dado cuenta hay dos distribuciones de distancia. La mayoría de las estrellas corresponden a la población sintética creada, mientras que el resto son estrellas de fondo. Para estudiar nuestro cúmulo, primero debemos filtrar las estrellas que no pertenecen a él. \n",
        "\n",
        "* Haz una copia del set de datos originales en la variable `datos_filtrados` y sólo utiliza las estrellas que cumplan con un criterio basado en el histograma anterior.\n",
        "* Imprime en pantalla el tamaño original del set de datos y del nuevo filtrado con el siguiente formato: _\"El set original contenía X estrellas, luego de filtrar quedaron X\"_\n"
      ]
    },
    {
      "metadata": {
        "id": "0IT_OXgY2Hph",
        "colab_type": "code",
        "colab": {}
      },
      "cell_type": "code",
      "source": [
        "#Filtrar por distancia\n",
        "\n",
        "datos_filtrados = datos.copy()[for i in range \n",
        "\n",
        "\n",
        "  \n",
        "\n",
        "print()"
      ],
      "execution_count": 0,
      "outputs": []
    },
    {
      "metadata": {
        "id": "-AB1xLbt2Hpk",
        "colab_type": "text"
      },
      "cell_type": "markdown",
      "source": [
        "## 4. Función Magnitud Absoluta\n",
        "\n",
        "Para hacer el CMD necesitamos la magnitud absoluta de nuestras estrellas. Para esto crearemos una función que la calcule.\n",
        "\n",
        "* Crea la función **`mag_abs(mag_ap, dist)`** de la siguiente forma:\n",
        "    * **Input:** \n",
        "        1. `mag_ap`: ndarray de magnitudes aparentes\n",
        "        2. `dist`: ndarray de distancias en unidades de [parsec]\n",
        "    * **Output:**\n",
        "        1. `mag_abs`: ndarray de magnitudes absolutas calculadas como: $M = m - 5 \\log_{10} (d_{pc}) + 5 $"
      ]
    },
    {
      "metadata": {
        "id": "7MI4KT3R2Hpm",
        "colab_type": "code",
        "colab": {}
      },
      "cell_type": "code",
      "source": [
        "#Funcion mag_abs(mag, dist)\n",
        "\n",
        "def mag_abs(mag_ap, dist):\n",
        "    \n",
        "    \n",
        "    return "
      ],
      "execution_count": 0,
      "outputs": []
    },
    {
      "metadata": {
        "id": "hBSblAX02Hpp",
        "colab_type": "text"
      },
      "cell_type": "markdown",
      "source": [
        "## 5. CMD\n",
        "\n",
        "Ahora podemos graficar nuestro Diagrama Color Magnitud. \n",
        "\n",
        "* Crea los siguientes arreglos:\n",
        "    1. `MV`: magnitud absoluta en la banda V\n",
        "    2. `color`: resta entre las magnitudes B y V (B-V)\n",
        "* Grafica MV vs color como se muestra en la siguiente [figura](https://www.astro.rug.nl/~ahelmi/galaxies_course/class_II/47tuc.gif). (**Hint: pon atención a los ejes)"
      ]
    },
    {
      "metadata": {
        "id": "OJUA4OFN2Hpq",
        "colab_type": "code",
        "colab": {}
      },
      "cell_type": "code",
      "source": [
        "#Crear arrays MV y color\n",
        "\n",
        "\n",
        "#plot cmd\n"
      ],
      "execution_count": 0,
      "outputs": []
    },
    {
      "metadata": {
        "id": "fy2lgu-T2Hpv",
        "colab_type": "text"
      },
      "cell_type": "markdown",
      "source": [
        "## 6. Densidades y otros\n",
        "\n",
        "Ahora crearemos gráficos con un poco más de información en color. \n",
        "* Haz una figura con dos gráficos, uno al lado del otro:\n",
        "    1. `MV vs color`, poninedo las masas de cada estrella en color (recuerda la barra de colores)\n",
        "    2. `MV vs color`, poniendo la Temperatura de cada estrella en color\n",
        "* Haz una figura con un gráfico que contenga:\n",
        "    1. [Histograma en 2D](https://matplotlib.org/api/_as_gen/matplotlib.pyplot.hist2d.html) con ejes `MV vs color` (esta figura muestra la densidad de estrellas en el espacio `MV vs color`)\n",
        "    \n",
        "No olvides poner **SIEMPRE** ejes a tus figuras, titulos, leyendas, etc. Elige mapas de colores donde se noten las características de los gráficos."
      ]
    },
    {
      "metadata": {
        "id": "-LWoakLJ2Hpx",
        "colab_type": "code",
        "colab": {}
      },
      "cell_type": "code",
      "source": [
        "# plot cmd + masa / smd + temp"
      ],
      "execution_count": 0,
      "outputs": []
    },
    {
      "metadata": {
        "id": "8QVYzh8-2Hpz",
        "colab_type": "code",
        "colab": {}
      },
      "cell_type": "code",
      "source": [
        "# plot cmd hist2D"
      ],
      "execution_count": 0,
      "outputs": []
    }
  ]
}